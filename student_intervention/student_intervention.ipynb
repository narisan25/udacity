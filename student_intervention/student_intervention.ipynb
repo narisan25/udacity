{
 "cells": [
  {
   "cell_type": "markdown",
   "metadata": {},
   "source": [
    "# Project 2: Supervised Learning\n",
    "### Building a Student Intervention System"
   ]
  },
  {
   "cell_type": "markdown",
   "metadata": {},
   "source": [
    "## 1. Classification vs Regression\n",
    "\n",
    "Your goal is to identify students who might need early intervention - which type of supervised machine learning problem is this, classification or regression? Why?"
   ]
  },
  {
   "cell_type": "markdown",
   "metadata": {},
   "source": [
    "##Answer: I choose classification model to predict 'Pass' or 'Fail' and it is easily find who needs intervention. On the other hand regression, it may predict probability of pass but I see it's hard to make threshold when we start intervension."
   ]
  },
  {
   "cell_type": "markdown",
   "metadata": {},
   "source": [
    "## 2. Exploring the Data\n",
    "\n",
    "Let's go ahead and read in the student dataset first.\n",
    "\n",
    "_To execute a code cell, click inside it and press **Shift+Enter**._"
   ]
  },
  {
   "cell_type": "code",
   "execution_count": 139,
   "metadata": {
    "collapsed": false
   },
   "outputs": [],
   "source": [
    "# Import libraries\n",
    "import numpy as np\n",
    "import pandas as pd"
   ]
  },
  {
   "cell_type": "code",
   "execution_count": 140,
   "metadata": {
    "collapsed": false
   },
   "outputs": [
    {
     "name": "stdout",
     "output_type": "stream",
     "text": [
      "Student data read successfully!\n"
     ]
    }
   ],
   "source": [
    "# Read student data\n",
    "student_data = pd.read_csv(\"student-data.csv\")\n",
    "print \"Student data read successfully!\"\n",
    "# Note: The last column 'passed' is the target/label, all other are feature columns"
   ]
  },
  {
   "cell_type": "markdown",
   "metadata": {},
   "source": [
    "Now, can you find out the following facts about the dataset?\n",
    "- Total number of students\n",
    "- Number of students who passed\n",
    "- Number of students who failed\n",
    "- Graduation rate of the class (%)\n",
    "- Number of features\n",
    "\n",
    "_Use the code block below to compute these values. Instructions/steps are marked using **TODO**s._"
   ]
  },
  {
   "cell_type": "code",
   "execution_count": 141,
   "metadata": {
    "collapsed": false
   },
   "outputs": [
    {
     "name": "stdout",
     "output_type": "stream",
     "text": [
      "Total number of students: 395\n",
      "Number of students who passed: 265\n",
      "Number of students who failed: 130\n",
      "Number of features: 30\n",
      "Graduation rate of the class: 67.09%\n"
     ]
    }
   ],
   "source": [
    "# TODO: Compute desired values - replace each '?' with an appropriate expression/function call\n",
    "n_students = len(student_data)\n",
    "n_features = student_data.shape[1]-1\n",
    "n_passed = len(student_data.ix[(student_data['passed']=='yes')])\n",
    "n_failed = len(student_data.ix[(student_data['passed']=='no')])\n",
    "grad_rate = n_passed * 100.0 / n_students\n",
    "print \"Total number of students: {}\".format(n_students)\n",
    "print \"Number of students who passed: {}\".format(n_passed)\n",
    "print \"Number of students who failed: {}\".format(n_failed)\n",
    "print \"Number of features: {}\".format(n_features)\n",
    "print \"Graduation rate of the class: {:.2f}%\".format(grad_rate)"
   ]
  },
  {
   "cell_type": "markdown",
   "metadata": {},
   "source": [
    "## 3. Preparing the Data\n",
    "In this section, we will prepare the data for modeling, training and testing.\n",
    "\n",
    "### Identify feature and target columns\n",
    "It is often the case that the data you obtain contains non-numeric features. This can be a problem, as most machine learning algorithms expect numeric data to perform computations with.\n",
    "\n",
    "Let's first separate our data into feature and target columns, and see if any features are non-numeric.<br/>\n",
    "**Note**: For this dataset, the last column (`'passed'`) is the target or label we are trying to predict."
   ]
  },
  {
   "cell_type": "code",
   "execution_count": 142,
   "metadata": {
    "collapsed": false
   },
   "outputs": [
    {
     "name": "stdout",
     "output_type": "stream",
     "text": [
      "Feature column(s):-\n",
      "['school', 'sex', 'age', 'address', 'famsize', 'Pstatus', 'Medu', 'Fedu', 'Mjob', 'Fjob', 'reason', 'guardian', 'traveltime', 'studytime', 'failures', 'schoolsup', 'famsup', 'paid', 'activities', 'nursery', 'higher', 'internet', 'romantic', 'famrel', 'freetime', 'goout', 'Dalc', 'Walc', 'health', 'absences']\n",
      "Target column: passed\n",
      "\n",
      "Feature values:-\n",
      "  school sex  age address famsize Pstatus  Medu  Fedu     Mjob      Fjob  \\\n",
      "0     GP   F   18       U     GT3       A     4     4  at_home   teacher   \n",
      "1     GP   F   17       U     GT3       T     1     1  at_home     other   \n",
      "2     GP   F   15       U     LE3       T     1     1  at_home     other   \n",
      "3     GP   F   15       U     GT3       T     4     2   health  services   \n",
      "4     GP   F   16       U     GT3       T     3     3    other     other   \n",
      "\n",
      "    ...    higher internet  romantic  famrel  freetime goout Dalc Walc health  \\\n",
      "0   ...       yes       no        no       4         3     4    1    1      3   \n",
      "1   ...       yes      yes        no       5         3     3    1    1      3   \n",
      "2   ...       yes      yes        no       4         3     2    2    3      3   \n",
      "3   ...       yes      yes       yes       3         2     2    1    1      5   \n",
      "4   ...       yes       no        no       4         3     2    1    2      5   \n",
      "\n",
      "  absences  \n",
      "0        6  \n",
      "1        4  \n",
      "2       10  \n",
      "3        2  \n",
      "4        4  \n",
      "\n",
      "[5 rows x 30 columns]\n"
     ]
    }
   ],
   "source": [
    "# Extract feature (X) and target (y) columns\n",
    "feature_cols = list(student_data.columns[:-1])  # all columns but last are features\n",
    "target_col = student_data.columns[-1]  # last column is the target/label\n",
    "print \"Feature column(s):-\\n{}\".format(feature_cols)\n",
    "print \"Target column: {}\".format(target_col)\n",
    "\n",
    "X_all = student_data[feature_cols]  # feature values for all students\n",
    "y_all = student_data[target_col]  # corresponding targets/labels\n",
    "print \"\\nFeature values:-\"\n",
    "print X_all.head()  # print the first 5 rows"
   ]
  },
  {
   "cell_type": "markdown",
   "metadata": {},
   "source": [
    "### Preprocess feature columns\n",
    "\n",
    "As you can see, there are several non-numeric columns that need to be converted! Many of them are simply `yes`/`no`, e.g. `internet`. These can be reasonably converted into `1`/`0` (binary) values.\n",
    "\n",
    "Other columns, like `Mjob` and `Fjob`, have more than two values, and are known as _categorical variables_. The recommended way to handle such a column is to create as many columns as possible values (e.g. `Fjob_teacher`, `Fjob_other`, `Fjob_services`, etc.), and assign a `1` to one of them and `0` to all others.\n",
    "\n",
    "These generated columns are sometimes called _dummy variables_, and we will use the [`pandas.get_dummies()`](http://pandas.pydata.org/pandas-docs/stable/generated/pandas.get_dummies.html?highlight=get_dummies#pandas.get_dummies) function to perform this transformation."
   ]
  },
  {
   "cell_type": "code",
   "execution_count": 143,
   "metadata": {
    "collapsed": false
   },
   "outputs": [
    {
     "name": "stdout",
     "output_type": "stream",
     "text": [
      "Processed feature columns (48):-\n",
      "['school_GP', 'school_MS', 'sex_F', 'sex_M', 'age', 'address_R', 'address_U', 'famsize_GT3', 'famsize_LE3', 'Pstatus_A', 'Pstatus_T', 'Medu', 'Fedu', 'Mjob_at_home', 'Mjob_health', 'Mjob_other', 'Mjob_services', 'Mjob_teacher', 'Fjob_at_home', 'Fjob_health', 'Fjob_other', 'Fjob_services', 'Fjob_teacher', 'reason_course', 'reason_home', 'reason_other', 'reason_reputation', 'guardian_father', 'guardian_mother', 'guardian_other', 'traveltime', 'studytime', 'failures', 'schoolsup', 'famsup', 'paid', 'activities', 'nursery', 'higher', 'internet', 'romantic', 'famrel', 'freetime', 'goout', 'Dalc', 'Walc', 'health', 'absences']\n"
     ]
    }
   ],
   "source": [
    "# Preprocess feature columns\n",
    "def preprocess_features(X):\n",
    "    outX = pd.DataFrame(index=X.index)  # output dataframe, initially empty\n",
    "\n",
    "    # Check each column\n",
    "    for col, col_data in X.iteritems():\n",
    "        # If data type is non-numeric, try to replace all yes/no values with 1/0\n",
    "        if col_data.dtype == object:\n",
    "            col_data = col_data.replace(['yes', 'no'], [1, 0])\n",
    "        # Note: This should change the data type for yes/no columns to int\n",
    "\n",
    "        # If still non-numeric, convert to one or more dummy variables\n",
    "        if col_data.dtype == object:\n",
    "            col_data = pd.get_dummies(col_data, prefix=col)  # e.g. 'school' => 'school_GP', 'school_MS'\n",
    "\n",
    "        outX = outX.join(col_data)  # collect column(s) in output dataframe\n",
    "\n",
    "    return outX\n",
    "\n",
    "X_all = preprocess_features(X_all)\n",
    "print \"Processed feature columns ({}):-\\n{}\".format(len(X_all.columns), list(X_all.columns))"
   ]
  },
  {
   "cell_type": "markdown",
   "metadata": {},
   "source": [
    "### Split data into training and test sets\n",
    "\n",
    "So far, we have converted all _categorical_ features into numeric values. In this next step, we split the data (both features and corresponding labels) into training and test sets."
   ]
  },
  {
   "cell_type": "code",
   "execution_count": 144,
   "metadata": {
    "collapsed": false
   },
   "outputs": [
    {
     "name": "stdout",
     "output_type": "stream",
     "text": [
      "Training set: 300 samples\n",
      "Test set: 95 samples\n"
     ]
    }
   ],
   "source": [
    "# First, decide how many training vs test samples you want\n",
    "num_all = student_data.shape[0]  # same as len(student_data)\n",
    "num_train = 300  # about 75% of the data\n",
    "num_test = num_all - num_train\n",
    "\n",
    "# TODO: Then, select features (X) and corresponding labels (y) for the training and test sets\n",
    "# Note: Shuffle the data or randomly select samples to avoid any bias due to ordering in the dataset\n",
    "from sklearn.cross_validation import train_test_split\n",
    "X_train,X_test,y_train,y_test=train_test_split(X_all,y_all,test_size=num_test,random_state=0)\n",
    "print \"Training set: {} samples\".format(X_train.shape[0])\n",
    "print \"Test set: {} samples\".format(X_test.shape[0])\n",
    "# Note: If you need a validation set, extract it from within training data"
   ]
  },
  {
   "cell_type": "markdown",
   "metadata": {},
   "source": [
    "## 4. Training and Evaluating Models\n",
    "Choose 3 supervised learning models that are available in scikit-learn, and appropriate for this problem. For each model:\n",
    "\n",
    "- What are the general applications of this model? What are its strengths and weaknesses?\n",
    "- Given what you know about the data so far, why did you choose this model to apply?\n",
    "- Fit this model to the training data, try to predict labels (for both training and test sets), and measure the F<sub>1</sub> score. Repeat this process with different training set sizes (100, 200, 300), keeping test set constant.\n",
    "\n",
    "Produce a table showing training time, prediction time, F<sub>1</sub> score on training set and F<sub>1</sub> score on test set, for each training set size.\n",
    "\n",
    "Note: You need to produce 3 such tables - one for each model."
   ]
  },
  {
   "cell_type": "code",
   "execution_count": 145,
   "metadata": {
    "collapsed": false
   },
   "outputs": [
    {
     "name": "stdout",
     "output_type": "stream",
     "text": [
      "SVC(C=1.0, cache_size=200, class_weight=None, coef0=0.0,\n",
      "  decision_function_shape=None, degree=3, gamma='auto', kernel='rbf',\n",
      "  max_iter=-1, probability=False, random_state=None, shrinking=True,\n",
      "  tol=0.001, verbose=False)\n"
     ]
    }
   ],
   "source": [
    "# Train a model\n",
    "import time\n",
    "\n",
    "def train_classifier(clf, X_train, y_train):\n",
    "    #print \"Training {}...\".format(clf.__class__.__name__)\n",
    "    start = time.time()\n",
    "    clf.fit(X_train, y_train)\n",
    "    end = time.time()\n",
    "    #print \"|TrainTime:{:.3f}|\".format(end - start)\n",
    "    return end-start\n",
    "    #print \"Done!\\nTraining time (secs): {:.3f}\".format(end - start)\n",
    "\n",
    "# TODO: Choose a model, import it and instantiate an object\n",
    "from sklearn.neighbors import NearestNeighbors\n",
    "from sklearn.svm import SVC\n",
    "clf = SVC()\n",
    "\n",
    "# Fit model to training data\n",
    "train_classifier(clf, X_train, y_train)  # note: using entire training set here\n",
    "print clf  # you can inspect the learned model by printing it"
   ]
  },
  {
   "cell_type": "code",
   "execution_count": 146,
   "metadata": {
    "collapsed": false
   },
   "outputs": [
    {
     "name": "stdout",
     "output_type": "stream",
     "text": [
      "F1 score for training set: [0.006000041961669922, 0.86919831223628696]\n"
     ]
    }
   ],
   "source": [
    "# Predict on training set and compute F1 score\n",
    "from sklearn.metrics import f1_score\n",
    "\n",
    "def predict_labels(clf, features, target):\n",
    "    #print \"Predicting labels using {}...\".format(clf.__class__.__name__)\n",
    "    start = time.time()\n",
    "    y_pred = clf.predict(features)\n",
    "    end = time.time()\n",
    "    #print \"Done!\\nPrediction time (secs): {:.3f}\".format(end - start)\n",
    "    #print \"|PredTime{:.3f}|\".format(end - start)\n",
    "    return [(end-start),f1_score(target.values, y_pred, pos_label='yes')]\n",
    "\n",
    "train_f1_score = predict_labels(clf, X_train, y_train)\n",
    "print \"F1 score for training set: {}\".format(train_f1_score)"
   ]
  },
  {
   "cell_type": "code",
   "execution_count": 147,
   "metadata": {
    "collapsed": false
   },
   "outputs": [
    {
     "name": "stdout",
     "output_type": "stream",
     "text": [
      "F1 score for test set: [0.003000020980834961, 0.75862068965517238]\n"
     ]
    }
   ],
   "source": [
    "# Predict on test data\n",
    "print \"F1 score for test set: {}\".format(predict_labels(clf, X_test, y_test))"
   ]
  },
  {
   "cell_type": "code",
   "execution_count": 148,
   "metadata": {
    "collapsed": false
   },
   "outputs": [
    {
     "name": "stdout",
     "output_type": "stream",
     "text": [
      " | SVC | Training Time | Train Pred Time | Test Pred Time | F1_Train | F1_Test |\n",
      "  | --- | -- | -- | --| -- | -- |\n",
      "| 100 | 0.001 | 0.001 | 0.001| 0.85906 | 0.78378 |\n",
      "| 200 | 0.007 | 0.003 | 0.002| 0.86928 | 0.77551 |\n",
      "| 300 | 0.009 | 0.008 | 0.002| 0.86920 | 0.75862 |\n"
     ]
    }
   ],
   "source": [
    "# Train and predict using different training set sizes\n",
    "def train_predict(clf, X_train, y_train, X_test, y_test):\n",
    "    #print \"------------------------------------------\"\n",
    "    #print \"Training set size: {}\".format(len(X_train))\n",
    "    train_time=train_classifier(clf, X_train, y_train)\n",
    "    #print \"F1 score for training set: {}\".format(predict_labels(clf, X_train, y_train))\n",
    "    #print \"F1 score for test set: {}\".format(predict_labels(clf, X_test, y_test))\n",
    "    train_result=predict_labels(clf, X_train, y_train)\n",
    "    test_result=predict_labels(clf, X_test, y_test)\n",
    "    print \"| {} | {:.3f} | {:.3f} | {:.3f}| {:.5f} | {:.5f} |\".format(len(X_train) , train_time, train_result[0],test_result[0],train_result[1],test_result[1] )\n",
    "    \n",
    "    \n",
    "# TODO: Run the helper function above for desired subsets of training data\n",
    "clf =SVC()\n",
    "print \" | {} | Training Time | Train Pred Time | Test Pred Time | F1_Train | F1_Test |\".format(clf.__class__.__name__)\n",
    "print \"  | --- | -- | -- | --| -- | -- |\"\n",
    "for x, i in enumerate([100,200,300]):\n",
    "    train_predict(clf,X_train[:i],y_train[:i],X_test,y_test)    \n",
    "# Note: Keep the test set constant"
   ]
  },
  {
   "cell_type": "code",
   "execution_count": null,
   "metadata": {
    "collapsed": true
   },
   "outputs": [],
   "source": []
  },
  {
   "cell_type": "code",
   "execution_count": 165,
   "metadata": {
    "collapsed": false
   },
   "outputs": [
    {
     "name": "stdout",
     "output_type": "stream",
     "text": [
      " | SGDClassifier | Training Time | Train Pred Time | Test Pred Time | F1_Train | F1_Test |\n",
      "  | --- | -- | -- | --| -- | -- |\n",
      "| 100 | 0.002 | 0.004 | 0.015| 0.67257 | 0.68376 |\n",
      "| 200 | 0.001 | 0.016 | 0.000| 0.79880 | 0.77124 |\n",
      "| 300 | 0.002 | 0.000 | 0.000| 0.81600 | 0.78146 |\n",
      " | KNeighborsClassifier | Training Time | Train Pred Time | Test Pred Time | F1_Train | F1_Test |\n",
      "  | --- | -- | -- | --| -- | -- |\n",
      "| 100 | 0.001 | 0.001 | 0.002| 0.79720 | 0.70677 |\n",
      "| 200 | 0.004 | 0.006 | 0.010| 0.85714 | 0.71212 |\n",
      "| 300 | 0.002 | 0.012 | 0.005| 0.87225 | 0.74820 |\n"
     ]
    }
   ],
   "source": [
    "# TODO: Train and predict using two other models\n",
    "#SGD\n",
    "from sklearn.linear_model import SGDClassifier\n",
    "clf2 = SGDClassifier(loss=\"hinge\", penalty=\"l2\")\n",
    "print \" | {} | Training Time | Train Pred Time | Test Pred Time | F1_Train | F1_Test |\".format(clf2.__class__.__name__)\n",
    "print \"  | --- | -- | -- | --| -- | -- |\"\n",
    "for x, i in enumerate([100,200,300]):\n",
    "    train_predict(clf2,X_train[:i],y_train[:i],X_test,y_test)\n",
    "\n",
    "#Neighbors\n",
    "from sklearn import neighbors\n",
    "clf3 = neighbors.KNeighborsClassifier()\n",
    "print \" | {} | Training Time | Train Pred Time | Test Pred Time | F1_Train | F1_Test |\".format(clf3.__class__.__name__)\n",
    "print \"  | --- | -- | -- | --| -- | -- |\"\n",
    "for x, i in enumerate([100,200,300]):\n",
    "    train_predict(clf3,X_train[:i],y_train[:i],X_test,y_test)"
   ]
  },
  {
   "cell_type": "markdown",
   "metadata": {},
   "source": [
    "## Result: \n",
    "(All time are in seconds)\n",
    "\n",
    " | SVC-Training Set | Training Time | Train Pred Time | Test Pred Time | F1_Train | F1_Test |\n",
    "  | --- | -- | -- | --| -- | -- |\n",
    "| 100 | 0.001 | 0.001 | 0.001| 0.85906 | 0.78378 |\n",
    "| 200 | 0.003 | 0.003 | 0.002| 0.86928 | 0.77551 |\n",
    "| 300 | 0.008 | 0.005 | 0.002| 0.86920 | 0.75862 |\n",
    "\n",
    " | SGDClassifier -Training Set| Training Time | Train Pred Time | Test Pred Time | F1_Train | F1_Test |\n",
    "  | --- | -- | -- | --| -- | -- |\n",
    "| 100 | 0.002 | 0.004 | 0.015| 0.67257 | 0.68376 |\n",
    "| 200 | 0.001 | 0.016 | 0.000| 0.79880 | 0.77124 |\n",
    "| 300 | 0.002 | 0.000 | 0.000| 0.81600 | 0.78146 |\n",
    "\n",
    " | KNeighborsClassifier -Training Set| Training Time | Train Pred Time | Test Pred Time | F1_Train | F1_Test |\n",
    "  | --- | -- | -- | --| -- | -- |\n",
    "| 100 | 0.001 | 0.002 | 0.004| 0.79720 | 0.70677 |\n",
    "| 200 | 0.000 | 0.005 | 0.002| 0.85714 | 0.71212 |\n",
    "| 300 | 0.001 | 0.019 | 0.007| 0.87225 | 0.74820 |"
   ]
  },
  {
   "cell_type": "markdown",
   "metadata": {},
   "source": [
    "## 5. Choosing the Best Model\n",
    "\n",
    "- Based on the experiments you performed earlier, in 1-2 paragraphs explain to the board of supervisors what single model you chose as the best model. Which model is generally the most appropriate based on the available data, limited resources, cost, and performance?\n",
    "- In 1-2 paragraphs explain to the board of supervisors in layman's terms how the final model chosen is supposed to work (for example if you chose a Decision Tree or Support Vector Machine, how does it make a prediction).\n",
    "- Fine-tune the model. Use Gridsearch with at least one important parameter tuned and with at least 3 settings. Use the entire training set for this.\n",
    "- What is the model's final F<sub>1</sub> score?"
   ]
  },
  {
   "cell_type": "markdown",
   "metadata": {},
   "source": [
    "## Answer \n",
    "- Comparing 3 models of SVC,SGD Classifier and KNeighborsClassifiler, I recommend SGD Classifier because of 2 major reasons.\n",
    "1) Training Time doesn't increase as training sets increas. 2)F1 scores for Testing is relatively high rather than others.'\n",
    "\n",
    "- SGD (stochastic gradient descent) works as 1) randomly picks up few dataset from training data, 2) predict and get the difference from right answer, 3) reflect the difference to optimize the model , 4) repeat 1)-3) process till the model gets minimum difference."
   ]
  },
  {
   "cell_type": "code",
   "execution_count": 151,
   "metadata": {
    "collapsed": true
   },
   "outputs": [],
   "source": [
    "# TODO: Fine-tune your model and report the best F1 score"
   ]
  },
  {
   "cell_type": "code",
   "execution_count": 180,
   "metadata": {
    "collapsed": false,
    "scrolled": true
   },
   "outputs": [
    {
     "name": "stdout",
     "output_type": "stream",
     "text": [
      "SGDClassifier(alpha=0.0001, average=False, class_weight=None, epsilon=0.1,\n",
      "       eta0=0.0, fit_intercept=True, l1_ratio=0.15,\n",
      "       learning_rate='optimal', loss='hinge', n_iter=5, n_jobs=1,\n",
      "       penalty='l2', power_t=0.5, random_state=None, shuffle=True,\n",
      "       verbose=0, warm_start=False)\n",
      " | GridSearchCV | Training Time | Train Pred Time | Test Pred Time | F1_Train | F1_Test |\n",
      "  | --- | -- | -- | --| -- | -- |\n",
      "| 300 | 1.370 | 0.000 | 0.001| 0.82186 | 0.78378 |\n",
      "Final model optimal parameters: {'penalty': 'elasticnet', 'alpha': 0.1, 'loss': 'hinge'}\n"
     ]
    }
   ],
   "source": [
    "from sklearn.grid_search import GridSearchCV\n",
    "print clf2\n",
    "clf4 = SGDClassifier(loss=\"hinge\")\n",
    "parameters = {'alpha':(0.1,0.001,0.0001,0.00001),'loss':('hinge','log','modified_huber','squared_hinge','perceptron'),'penalty':('none','l1','elasticnet','l2')}\n",
    "#scoring_function = make_scorer(mean_absolute_error,greater_is_better=False)\n",
    "reg = GridSearchCV(clf4,parameters)\n",
    "\n",
    "print \" | {} | Training Time | Train Pred Time | Test Pred Time | F1_Train | F1_Test |\".format(reg.__class__.__name__)\n",
    "print \"  | --- | -- | -- | --| -- | -- |\"\n",
    "train_predict(reg,X_train,y_train,X_test,y_test)\n",
    "    \n",
    "print \"Final model optimal parameters:\", reg.best_params_"
   ]
  },
  {
   "cell_type": "markdown",
   "metadata": {},
   "source": [
    "## Finetune result\n",
    "GridSearchCV found the best parameters as 'penalty'='elasticnet', 'alpha'= 0.1, 'loss'= 'hinge' for SGDClassifier.\n",
    "\n",
    " | GridSearchCV - Training Set | Training Time | Train Pred Time | Test Pred Time | F1_Train | F1_Test |\n",
    "  | --- | -- | -- | --| -- | -- |\n",
    "| 300 | 1.370 | 0.000 | 0.001| 0.82186 | 0.78378 |\n",
    "\n",
    "this F1_test score is slightly better than 0.78146 with default setup."
   ]
  }
 ],
 "metadata": {
  "kernelspec": {
   "display_name": "Python 2",
   "language": "python",
   "name": "python2"
  },
  "language_info": {
   "codemirror_mode": {
    "name": "ipython",
    "version": 2
   },
   "file_extension": ".py",
   "mimetype": "text/x-python",
   "name": "python",
   "nbconvert_exporter": "python",
   "pygments_lexer": "ipython2",
   "version": "2.7.11"
  }
 },
 "nbformat": 4,
 "nbformat_minor": 0
}
